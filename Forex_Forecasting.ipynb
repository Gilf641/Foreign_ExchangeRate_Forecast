{
  "nbformat": 4,
  "nbformat_minor": 0,
  "metadata": {
    "colab": {
      "name": "Forex Forecasting.ipynb",
      "provenance": [],
      "include_colab_link": true
    },
    "kernelspec": {
      "name": "python3",
      "display_name": "Python 3"
    }
  },
  "cells": [
    {
      "cell_type": "markdown",
      "metadata": {
        "id": "view-in-github",
        "colab_type": "text"
      },
      "source": [
        "<a href=\"https://colab.research.google.com/github/Rohan641/Foreign_ExchangeRate_Forecast/blob/master/Forex_Forecasting.ipynb\" target=\"_parent\"><img src=\"https://colab.research.google.com/assets/colab-badge.svg\" alt=\"Open In Colab\"/></a>"
      ]
    },
    {
      "cell_type": "code",
      "metadata": {
        "id": "21eJNwNcP5SQ",
        "colab_type": "code",
        "outputId": "214bea93-48c5-4f47-a6d7-acf5e324b046",
        "colab": {
          "base_uri": "https://localhost:8080/",
          "height": 274
        }
      },
      "source": [
        "#Install the libraries\n",
        "!pip install numpy\n",
        "!pip install pandas\n",
        "!pip install matplotlib"
      ],
      "execution_count": 0,
      "outputs": [
        {
          "output_type": "stream",
          "text": [
            "Requirement already satisfied: numpy in /usr/local/lib/python3.6/dist-packages (1.16.5)\n",
            "Requirement already satisfied: pandas in /usr/local/lib/python3.6/dist-packages (0.24.2)\n",
            "Requirement already satisfied: pytz>=2011k in /usr/local/lib/python3.6/dist-packages (from pandas) (2018.9)\n",
            "Requirement already satisfied: python-dateutil>=2.5.0 in /usr/local/lib/python3.6/dist-packages (from pandas) (2.5.3)\n",
            "Requirement already satisfied: numpy>=1.12.0 in /usr/local/lib/python3.6/dist-packages (from pandas) (1.16.5)\n",
            "Requirement already satisfied: six>=1.5 in /usr/local/lib/python3.6/dist-packages (from python-dateutil>=2.5.0->pandas) (1.12.0)\n",
            "Requirement already satisfied: matplotlib in /usr/local/lib/python3.6/dist-packages (3.0.3)\n",
            "Requirement already satisfied: numpy>=1.10.0 in /usr/local/lib/python3.6/dist-packages (from matplotlib) (1.16.5)\n",
            "Requirement already satisfied: pyparsing!=2.0.4,!=2.1.2,!=2.1.6,>=2.0.1 in /usr/local/lib/python3.6/dist-packages (from matplotlib) (2.4.2)\n",
            "Requirement already satisfied: kiwisolver>=1.0.1 in /usr/local/lib/python3.6/dist-packages (from matplotlib) (1.1.0)\n",
            "Requirement already satisfied: python-dateutil>=2.1 in /usr/local/lib/python3.6/dist-packages (from matplotlib) (2.5.3)\n",
            "Requirement already satisfied: cycler>=0.10 in /usr/local/lib/python3.6/dist-packages (from matplotlib) (0.10.0)\n",
            "Requirement already satisfied: setuptools in /usr/local/lib/python3.6/dist-packages (from kiwisolver>=1.0.1->matplotlib) (41.2.0)\n",
            "Requirement already satisfied: six>=1.5 in /usr/local/lib/python3.6/dist-packages (from python-dateutil>=2.1->matplotlib) (1.12.0)\n"
          ],
          "name": "stdout"
        }
      ]
    },
    {
      "cell_type": "code",
      "metadata": {
        "id": "JCLhntthQSvI",
        "colab_type": "code",
        "colab": {}
      },
      "source": [
        "#Load all the reqd libs\n",
        "\n",
        "\n",
        "import numpy as np\n",
        "\n",
        "import pandas as pd\n",
        "\n",
        "import matplotlib.pyplot as plt\n",
        "\n",
        "\n",
        "    "
      ],
      "execution_count": 0,
      "outputs": []
    },
    {
      "cell_type": "code",
      "metadata": {
        "id": "DcqSNp2HSUKM",
        "colab_type": "code",
        "colab": {
          "resources": {
            "http://localhost:8080/nbextensions/google.colab/files.js": {
              "data": "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",
              "ok": true,
              "headers": [
                [
                  "content-type",
                  "application/javascript"
                ]
              ],
              "status": 200,
              "status_text": "OK"
            }
          },
          "base_uri": "https://localhost:8080/",
          "height": 77
        },
        "outputId": "ebfae3ec-54c2-4c4e-cf3b-dabce2614c85"
      },
      "source": [
        "from google.colab import files\n",
        "\n",
        "uploaded = files.upload()"
      ],
      "execution_count": 5,
      "outputs": [
        {
          "output_type": "display_data",
          "data": {
            "text/html": [
              "\n",
              "     <input type=\"file\" id=\"files-7496c69d-e7ab-4a0c-a938-c0b98dc38b91\" name=\"files[]\" multiple disabled />\n",
              "     <output id=\"result-7496c69d-e7ab-4a0c-a938-c0b98dc38b91\">\n",
              "      Upload widget is only available when the cell has been executed in the\n",
              "      current browser session. Please rerun this cell to enable.\n",
              "      </output>\n",
              "      <script src=\"/nbextensions/google.colab/files.js\"></script> "
            ],
            "text/plain": [
              "<IPython.core.display.HTML object>"
            ]
          },
          "metadata": {
            "tags": []
          }
        },
        {
          "output_type": "stream",
          "text": [
            "Saving data.xlsx to data.xlsx\n"
          ],
          "name": "stdout"
        }
      ]
    },
    {
      "cell_type": "code",
      "metadata": {
        "id": "jXD2YriEQ_Cc",
        "colab_type": "code",
        "outputId": "127b6cbd-35f3-4966-f2e6-a672d08b18fe",
        "colab": {
          "base_uri": "https://localhost:8080/",
          "height": 146
        }
      },
      "source": [
        "# Reads an Excel file \n",
        "\n",
        "# return: data = ['date', 'last price']\n",
        "\n",
        "\n",
        "def loadExcelData(fileName, sheetName):\n",
        "\n",
        "  data = pd.DataFrame(pd.read_excel(fileName, sheetName), columns= ['Date', 'Last Price']) # creates a dataframe on reading excel files\n",
        "\t\n",
        "  return data.values\n",
        "\n",
        "\n",
        "cny_data = loadExcelData('data.xlsx','USDCNY')\n",
        "\n",
        "jpy_data = loadExcelData('data.xlsx','USDJPY')\n",
        "\n",
        "eur_data = loadExcelData('data.xlsx','USDEUR')\n",
        "\n",
        "gbp_data = loadExcelData('data.xlsx','USDGBP')\n",
        "\n"
      ],
      "execution_count": 16,
      "outputs": [
        {
          "output_type": "execute_result",
          "data": {
            "text/plain": [
              "array([[Timestamp('2005-07-21 00:00:00'), 8.11],\n",
              "       [Timestamp('2005-07-22 00:00:00'), 8.1111],\n",
              "       [Timestamp('2005-07-25 00:00:00'), 8.1097],\n",
              "       ...,\n",
              "       [Timestamp('2019-05-07 00:00:00'), 6.7763],\n",
              "       [Timestamp('2019-05-08 00:00:00'), 6.7828],\n",
              "       [Timestamp('2019-05-09 00:00:00'), 6.8274]], dtype=object)"
            ]
          },
          "metadata": {
            "tags": []
          },
          "execution_count": 16
        }
      ]
    },
    {
      "cell_type": "code",
      "metadata": {
        "id": "P4eCjGIaTIqc",
        "colab_type": "code",
        "colab": {}
      },
      "source": [
        "#Return values(r2, r3, r4, ..., rn)\n",
        "\n",
        "\n",
        "# construct rs\n",
        "# r0 = None\n",
        "# start from r1 = 100*log(p1-p0)\n",
        "\n",
        "\n",
        "def construct_return(data):\n",
        "\n",
        "  \n",
        "  p = data[:,1].astype(float) # this line converts exchange price to float type\n",
        "\t\n",
        "  r = np.zeros_like(p) # this creates an empty np obj of size p i.e 3521\n",
        "\t\n",
        "  r[0] = None # set first elm to None\n",
        "\t\n",
        "  r[1:] = 100.0 * (np.log(p[1:])-np.log(p[:-1])) # this helps in computing return\n",
        "\t\n",
        "  return r\n",
        "\n",
        "cny_r = construct_return(cny_data)\n",
        "jpy_r = construct_return(jpy_data)\n",
        "eur_r = construct_return(eur_data)\n",
        "gbp_r = construct_return(gbp_data)\n",
        "\n",
        "\n",
        "\n",
        "#p = cny_data[:,1].astype(float) # this line converts exchange price to float type\n",
        "\n",
        "#r = np.zeros_like(p) # this creates an empty np obj of size p i.e 3521\n"
      ],
      "execution_count": 0,
      "outputs": []
    },
    {
      "cell_type": "code",
      "metadata": {
        "id": "VUv0kHmmXkQZ",
        "colab_type": "code",
        "colab": {
          "base_uri": "https://localhost:8080/",
          "height": 54
        },
        "outputId": "8ae64e7f-b6b1-47ea-b5e8-05057767f363"
      },
      "source": [
        "# for example: SMA5\n",
        "\n",
        "# in the form of (r2, (r2+r3)/2, (r2+r3+r4)/3, (r2+r3+r4+r5)/4, (r2+r3+r4+r5+r6)/5, \n",
        "\n",
        "# (r3+r4+r5+r6+r7)/5, ...)\n",
        "\n",
        "def construct_SMA(r,degree):\n",
        "\n",
        "  \n",
        "  num_days = r.shape[0] # this actually gives the length of r\n",
        "\t\n",
        "  sma = np.zeros_like(r) # now you create another empty obj of r shape\n",
        "\t\n",
        "  for i in range(num_days):\n",
        "\t\n",
        "    if i == 0:  # this is for the first element\n",
        "\t\n",
        "        sma[i] = None\n",
        "\t\n",
        "    elif i < degree:\n",
        "\t\n",
        "        sma[i] = np.mean(r[1:i+1])# this is to calc moving avg \n",
        "\t\n",
        "    else:\n",
        "\t\n",
        "        sma[i] = np.mean(r[i-degree+1:i+1]) # this after first iteration like if i > degree, use (i-degree+1)\n",
        "\t\n",
        "  \n",
        "  return sma\n",
        "\n",
        "\n",
        "\n",
        "\t# construct sma\n",
        "cny_sma5 = construct_SMA(cny_r,5)\n",
        "jpy_sma5 = construct_SMA(jpy_r,5)\n",
        "eur_sma5 = construct_SMA(eur_r,5)\n",
        "gbp_sma5 = construct_SMA(gbp_r,5)\n",
        "\n",
        "  \n",
        "cny_sma5"
      ],
      "execution_count": 30,
      "outputs": [
        {
          "output_type": "execute_result",
          "data": {
            "text/plain": [
              "array([        nan,  0.01356258, -0.0018496 , ...,  0.12286233,\n",
              "        0.14352253,  0.27400719])"
            ]
          },
          "metadata": {
            "tags": []
          },
          "execution_count": 30
        }
      ]
    },
    {
      "cell_type": "code",
      "metadata": {
        "id": "wELpr_blclLB",
        "colab_type": "code",
        "colab": {}
      },
      "source": [
        "# return last day's closing price\n",
        "def construct_lastDay(r):\n",
        "\n",
        "  lDay = np.zeros_like(r)\n",
        "\t\n",
        "  lDay[0:2] = None\n",
        "\t\n",
        "  lDay[2:] = r[1:-1]\n",
        "\t\n",
        "  return lDay\n",
        "\n",
        "\n",
        "\n",
        "\t# construct last-day-closing-price structure\n",
        "cny_lDay = construct_lastDay(cny_r)\n",
        "\n",
        "jpy_lDay = construct_lastDay(jpy_r)\n",
        "\n",
        "eur_lDay = construct_lastDay(eur_r)\n",
        "\n",
        "gbp_lDay = construct_lastDay(gbp_r)\n",
        "\n"
      ],
      "execution_count": 0,
      "outputs": []
    },
    {
      "cell_type": "code",
      "metadata": {
        "id": "ukxagh0LRZb1",
        "colab_type": "code",
        "colab": {}
      },
      "source": [
        "\n",
        "\n",
        "# The main method\n",
        "def main():\n",
        "\t# load data = ['date', 'last price']\n",
        "\tcny_data = loadExcelData('data.xlsx','USDCNY')\n",
        "\tjpy_data = loadExcelData('data.xlsx','USDJPY')\n",
        "\teur_data = loadExcelData('data.xlsx','USDEUR')\n",
        "\tgbp_data = loadExcelData('data.xlsx','USDGBP')\n",
        "\t\n",
        "\t# Fill data in the empty dates (weekends) with the average\n",
        "\t# of porior and posterior data\n",
        "\t# cny_data = fillEmptyDates(cny_data)\n",
        "\t# jpy_data = fillEmptyDates(jpy_data)\n",
        "\t# eur_data = fillEmptyDates(eur_data)\n",
        "\t# gbp_data = fillEmptyDates(gbp_data)\n",
        "\n",
        "\t# construct retrun values (r2,...,rn)\n",
        "\tcny_r = construct_return(cny_data)\n",
        "\tjpy_r = construct_return(jpy_data)\n",
        "\teur_r = construct_return(eur_data)\n",
        "\tgbp_r = construct_return(gbp_data)\n",
        "\n",
        "\t# construct sma\n",
        "\tcny_sma5 = construct_SMA(cny_r,5)\n",
        "\tjpy_sma5 = construct_SMA(jpy_r,5)\n",
        "\teur_sma5 = construct_SMA(eur_r,5)\n",
        "\tgbp_sma5 = construct_SMA(gbp_r,5)\n",
        "\n",
        "\t# construct last-day-closing-price structure\n",
        "\tcny_lDay = construct_lastDay(cny_r)\n",
        "\tjpy_lDay = construct_lastDay(jpy_r)\n",
        "\teur_lDay = construct_lastDay(eur_r)\n",
        "\tgbp_lDay = construct_lastDay(gbp_r)\n",
        "\n",
        "\t# construct y \n",
        "\tcny_y = construct_y(cny_data)\n",
        "\tjpy_y = construct_y(jpy_data)\t\n",
        "\teur_y = construct_y(eur_data)\n",
        "\tgbp_y = construct_y(gbp_data)\n",
        "\n",
        "\t# plot p\n",
        "\tplt.figure(2)\n",
        "\tplt.subplot(221)\n",
        "\tplt.plot(cny_data[:,1])\n",
        "\tplt.title('CNY')\n",
        "\tplt.subplot(222)\n",
        "\tplt.plot(jpy_data[:,1])\n",
        "\tplt.title('JPY')\n",
        "\tplt.subplot(223)\n",
        "\tplt.plot(eur_data[:,1])\n",
        "\tplt.title('EUR')\n",
        "\tplt.subplot(224)\n",
        "\tplt.plot(gbp_data[:,1])\n",
        "\tplt.title('GBP')\n",
        "\tplt.savefig('P.png')\n",
        "\n",
        "\t# plot r\n",
        "\tplt.figure(3)\n",
        "\tplt.subplot(221)\n",
        "\tplt.plot(cny_r)\n",
        "\tplt.title('CNY')\n",
        "\tplt.subplot(222)\n",
        "\tplt.plot(jpy_r)\n",
        "\tplt.title('JPY')\n",
        "\tplt.subplot(223)\n",
        "\tplt.plot(eur_r)\n",
        "\tplt.title('EUR')\n",
        "\tplt.subplot(224)\n",
        "\n",
        "\tplt.plot(gbp_r)\n",
        "\tplt.title('GBP')\n",
        "\tplt.savefig('R.png')\n",
        "\n",
        "\t# plot SMA5\n",
        "\tplt.figure(4)\n",
        "\tplt.subplot(221)\n",
        "\tplt.plot(cny_sma5)\n",
        "\tplt.title('CNY')\n",
        "\tplt.subplot(222)\n",
        "\tplt.plot(jpy_sma5)\n",
        "\tplt.title('JPY')\n",
        "\tplt.subplot(223)\n",
        "\tplt.plot(eur_sma5)\n",
        "\tplt.title('EUR')\n",
        "\tplt.subplot(224)\n",
        "\tplt.plot(gbp_sma5)\n",
        "\tplt.title('GBP')\n",
        "\tplt.savefig('SMA5.png')\n",
        "\n",
        "\t# plot last-day-closing-price\n",
        "\tplt.figure(5)\n",
        "\tplt.subplot(221)\n",
        "\tplt.plot(cny_lDay)\n",
        "\tplt.title('CNY')\n",
        "\tplt.subplot(222)\n",
        "\tplt.plot(jpy_lDay)\n",
        "\tplt.title('JPY')\n",
        "\tplt.subplot(223)\n",
        "\tplt.plot(eur_lDay)\n",
        "\tplt.title('EUR')\n",
        "\tplt.subplot(224)\n",
        "\tplt.plot(gbp_lDay)\n",
        "\tplt.title('GBP')\n",
        "\tplt.savefig('lastDay.png')\n",
        "\t\n",
        "\tX = construct_X(cny_data)\n",
        "\tprint (X)\n",
        "\t\n",
        "\t\n",
        "\n",
        "\n",
        "\n"
      ],
      "execution_count": 0,
      "outputs": []
    }
  ]
}