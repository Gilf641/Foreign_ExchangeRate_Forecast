{
  "nbformat": 4,
  "nbformat_minor": 0,
  "metadata": {
    "colab": {
      "name": "Forex Forecasting.ipynb",
      "provenance": [],
      "collapsed_sections": [],
      "include_colab_link": true
    },
    "kernelspec": {
      "name": "python3",
      "display_name": "Python 3"
    }
  },
  "cells": [
    {
      "cell_type": "markdown",
      "metadata": {
        "id": "view-in-github",
        "colab_type": "text"
      },
      "source": [
        "<a href=\"https://colab.research.google.com/github/Rohan641/Foreign_ExchangeRate_Forecast/blob/master/Forex_Forecasting.ipynb\" target=\"_parent\"><img src=\"https://colab.research.google.com/assets/colab-badge.svg\" alt=\"Open In Colab\"/></a>"
      ]
    },
    {
      "cell_type": "code",
      "metadata": {
        "id": "21eJNwNcP5SQ",
        "colab_type": "code",
        "outputId": "6351597c-cc7f-4dc3-b224-c4c57ce52ecf",
        "colab": {
          "base_uri": "https://localhost:8080/",
          "height": 274
        }
      },
      "source": [
        "#Install the libraries\n",
        "!pip install numpy\n",
        "!pip install pandas\n",
        "!pip install matplotlib"
      ],
      "execution_count": 1,
      "outputs": [
        {
          "output_type": "stream",
          "text": [
            "Requirement already satisfied: numpy in /usr/local/lib/python3.6/dist-packages (1.16.5)\n",
            "Requirement already satisfied: pandas in /usr/local/lib/python3.6/dist-packages (0.24.2)\n",
            "Requirement already satisfied: numpy>=1.12.0 in /usr/local/lib/python3.6/dist-packages (from pandas) (1.16.5)\n",
            "Requirement already satisfied: python-dateutil>=2.5.0 in /usr/local/lib/python3.6/dist-packages (from pandas) (2.5.3)\n",
            "Requirement already satisfied: pytz>=2011k in /usr/local/lib/python3.6/dist-packages (from pandas) (2018.9)\n",
            "Requirement already satisfied: six>=1.5 in /usr/local/lib/python3.6/dist-packages (from python-dateutil>=2.5.0->pandas) (1.12.0)\n",
            "Requirement already satisfied: matplotlib in /usr/local/lib/python3.6/dist-packages (3.0.3)\n",
            "Requirement already satisfied: cycler>=0.10 in /usr/local/lib/python3.6/dist-packages (from matplotlib) (0.10.0)\n",
            "Requirement already satisfied: kiwisolver>=1.0.1 in /usr/local/lib/python3.6/dist-packages (from matplotlib) (1.1.0)\n",
            "Requirement already satisfied: pyparsing!=2.0.4,!=2.1.2,!=2.1.6,>=2.0.1 in /usr/local/lib/python3.6/dist-packages (from matplotlib) (2.4.2)\n",
            "Requirement already satisfied: numpy>=1.10.0 in /usr/local/lib/python3.6/dist-packages (from matplotlib) (1.16.5)\n",
            "Requirement already satisfied: python-dateutil>=2.1 in /usr/local/lib/python3.6/dist-packages (from matplotlib) (2.5.3)\n",
            "Requirement already satisfied: six in /usr/local/lib/python3.6/dist-packages (from cycler>=0.10->matplotlib) (1.12.0)\n",
            "Requirement already satisfied: setuptools in /usr/local/lib/python3.6/dist-packages (from kiwisolver>=1.0.1->matplotlib) (41.2.0)\n"
          ],
          "name": "stdout"
        }
      ]
    },
    {
      "cell_type": "markdown",
      "metadata": {
        "id": "XZ8dHWFaUHh8",
        "colab_type": "text"
      },
      "source": [
        "Data Procession \n",
        "\n",
        "The Data here is not present in a single sheet or a file. It's in the form of  a Workbook. Apart from the existing data, it requires other variable like SMA's, Returns, LastDay Closing Price etc. So here I've made use of Python Functions to create them and then implement it all together using main()."
      ]
    },
    {
      "cell_type": "code",
      "metadata": {
        "id": "JCLhntthQSvI",
        "colab_type": "code",
        "colab": {}
      },
      "source": [
        "#Load all the reqd libs\n",
        "\n",
        "\n",
        "import numpy as np\n",
        "\n",
        "import pandas as pd\n",
        "\n",
        "import matplotlib.pyplot as plt\n",
        "\n",
        "\n",
        "    "
      ],
      "execution_count": 0,
      "outputs": []
    },
    {
      "cell_type": "code",
      "metadata": {
        "id": "DcqSNp2HSUKM",
        "colab_type": "code",
        "outputId": "6185d527-708f-4b3b-c943-55f543c3ae96",
        "colab": {
          "resources": {
            "http://localhost:8080/nbextensions/google.colab/files.js": {
              "data": "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",
              "ok": true,
              "headers": [
                [
                  "content-type",
                  "application/javascript"
                ]
              ],
              "status": 200,
              "status_text": "OK"
            }
          },
          "base_uri": "https://localhost:8080/",
          "height": 77
        }
      },
      "source": [
        "from google.colab import files\n",
        "\n",
        "uploaded = files.upload()"
      ],
      "execution_count": 6,
      "outputs": [
        {
          "output_type": "display_data",
          "data": {
            "text/html": [
              "\n",
              "     <input type=\"file\" id=\"files-f944f214-756e-45aa-adc2-806a24b731be\" name=\"files[]\" multiple disabled />\n",
              "     <output id=\"result-f944f214-756e-45aa-adc2-806a24b731be\">\n",
              "      Upload widget is only available when the cell has been executed in the\n",
              "      current browser session. Please rerun this cell to enable.\n",
              "      </output>\n",
              "      <script src=\"/nbextensions/google.colab/files.js\"></script> "
            ],
            "text/plain": [
              "<IPython.core.display.HTML object>"
            ]
          },
          "metadata": {
            "tags": []
          }
        },
        {
          "output_type": "stream",
          "text": [
            "Saving data.xlsx to data.xlsx\n"
          ],
          "name": "stdout"
        }
      ]
    },
    {
      "cell_type": "code",
      "metadata": {
        "id": "jXD2YriEQ_Cc",
        "colab_type": "code",
        "colab": {}
      },
      "source": [
        "# Reads an Excel file \n",
        "\n",
        "# return: data = ['date', 'last price']\n",
        "\n",
        "\n",
        "def loadExcelData(fileName, sheetName):\n",
        "\n",
        "  data = pd.DataFrame(pd.read_excel(fileName, sheetName), columns= ['Date', 'Last Price']) # creates a dataframe on reading excel files\n",
        "\t\n",
        "  return data.values\n",
        "\n",
        "\n",
        "cny_data = loadExcelData('data.xlsx','USDCNY')\n",
        "\n",
        "jpy_data = loadExcelData('data.xlsx','USDJPY')\n",
        "\n",
        "eur_data = loadExcelData('data.xlsx','USDEUR')\n",
        "\n",
        "gbp_data = loadExcelData('data.xlsx','USDGBP')\n",
        "\n"
      ],
      "execution_count": 0,
      "outputs": []
    },
    {
      "cell_type": "code",
      "metadata": {
        "id": "P4eCjGIaTIqc",
        "colab_type": "code",
        "colab": {}
      },
      "source": [
        "#Return values(r2, r3, r4, ..., rn)\n",
        "\n",
        "\n",
        "# construct rs\n",
        "# r0 = None\n",
        "# start from r1 = 100*log(p1-p0)\n",
        "\n",
        "\n",
        "def construct_return(data):\n",
        "\n",
        "  \n",
        "  p = data[:,1].astype(float) # this line converts exchange price to float type\n",
        "\t\n",
        "  r = np.zeros_like(p) # this creates an empty np obj of size p i.e 3521\n",
        "\t\n",
        "  r[0] = None # set first elm to None\n",
        "\t\n",
        "  r[1:] = 100.0 * (np.log(p[1:])-np.log(p[:-1])) # this helps in computing return\n",
        "\t\n",
        "  return r\n",
        "\n",
        "\n",
        "cny_r = construct_return(cny_data)\n",
        "\n",
        "jpy_r = construct_return(jpy_data)\n",
        "\n",
        "eur_r = construct_return(eur_data)\n",
        "\n",
        "gbp_r = construct_return(gbp_data)\n",
        "\n",
        "\n",
        "\n",
        "#p = cny_data[:,1].astype(float) # this line converts exchange price to float type\n",
        "\n",
        "#r = np.zeros_like(p) # this creates an empty np obj of size p i.e 3521\n"
      ],
      "execution_count": 0,
      "outputs": []
    },
    {
      "cell_type": "code",
      "metadata": {
        "id": "VUv0kHmmXkQZ",
        "colab_type": "code",
        "colab": {}
      },
      "source": [
        "# for example: SMA5\n",
        "\n",
        "# in the form of (r2, (r2+r3)/2, (r2+r3+r4)/3, (r2+r3+r4+r5)/4, (r2+r3+r4+r5+r6)/5, \n",
        "\n",
        "# (r3+r4+r5+r6+r7)/5, ...)\n",
        "\n",
        "def construct_SMA(r,degree):\n",
        "\n",
        "  \n",
        "  num_days = r.shape[0] # this actually gives the length of r\n",
        "\t\n",
        "  sma = np.zeros_like(r) # now you create another empty obj of r shape\n",
        "\t\n",
        "  for i in range(num_days):\n",
        "\t\n",
        "    if i == 0:  # this is for the first element\n",
        "\t\n",
        "        sma[i] = None\n",
        "\t\n",
        "    elif i < degree:\n",
        "\t\n",
        "        sma[i] = np.mean(r[1:i+1])# this is to calc moving avg \n",
        "\t\n",
        "    else:\n",
        "\t\n",
        "        sma[i] = np.mean(r[i-degree+1:i+1]) # this after first iteration like if i > degree, use (i-degree+1)\n",
        "\t\n",
        "  \n",
        "  return sma\n",
        "\n",
        "\n",
        "\n",
        "# construct sma\n",
        "\n",
        "cny_sma5 = construct_SMA(cny_r,5)\n",
        "\n",
        "jpy_sma5 = construct_SMA(jpy_r,5)\n",
        "\n",
        "eur_sma5 = construct_SMA(eur_r,5)\n",
        "\n",
        "gbp_sma5 = construct_SMA(gbp_r,5)\n",
        "\n"
      ],
      "execution_count": 0,
      "outputs": []
    },
    {
      "cell_type": "code",
      "metadata": {
        "id": "wELpr_blclLB",
        "colab_type": "code",
        "colab": {}
      },
      "source": [
        "# return last day's closing price\n",
        "\n",
        "def construct_lastDay(r):\n",
        "\n",
        "  lDay = np.zeros_like(r)\n",
        "\t\n",
        "  lDay[0:2] = None\n",
        "\t\n",
        "  lDay[2:] = r[1:-1]\n",
        "\t\n",
        "\n",
        "  return lDay\n",
        "\n",
        "\n",
        "\n",
        "# construct last-day-closing-price structure\n",
        "cny_lDay = construct_lastDay(cny_r)\n",
        "\n",
        "\n",
        "jpy_lDay = construct_lastDay(jpy_r)\n",
        "\n",
        "\n",
        "eur_lDay = construct_lastDay(eur_r)\n",
        "\n",
        "\n",
        "gbp_lDay = construct_lastDay(gbp_r)\n",
        "\n",
        "\n"
      ],
      "execution_count": 0,
      "outputs": []
    },
    {
      "cell_type": "code",
      "metadata": {
        "id": "u2IYY83d_BIO",
        "colab_type": "code",
        "colab": {}
      },
      "source": [
        "# construct X\n",
        "\n",
        "# [x1 x2 x3 x4 x5 x6 x7]\n",
        "\n",
        "# [r SMA5 SMA10 SMA20 SMA60 SMA120 lDay]  \n",
        "\n",
        "def construct_X(data):\n",
        "\n",
        "  x1 = construct_return(data).reshape((-1,1)) # shape (-1,1 ) means it creates 1 column and if its (1, -1) then 1 row\n",
        "\t\n",
        "  x2 = construct_SMA(x1,5).reshape((-1,1)) # SMA of 5 Days\n",
        "\t\n",
        "  x3 = construct_SMA(x1,10).reshape((-1,1))\n",
        "\t\n",
        "  x4 = construct_SMA(x1,20).reshape((-1,1))\n",
        "\t\n",
        "  x5 = construct_SMA(x1,60).reshape((-1,1))\n",
        "\t\n",
        "  x6 = construct_SMA(x1,120).reshape((-1,1))\n",
        "\t\n",
        "  x7 = construct_lastDay(x1).reshape((-1,1)) \n",
        "\t\n",
        "  x8 = np.log(data[:,1].astype(float)).reshape((-1,1)) # I didn't understand this code even x14 and x15\n",
        "\t\n",
        "  x9 = construct_SMA(x8,5).reshape((-1,1))\n",
        "\t\n",
        "  x10 = construct_SMA(x8, 10).reshape((-1, 1))\n",
        "\t\n",
        "  x11 = construct_SMA(x8, 20).reshape((-1, 1))\n",
        "\t\n",
        "  x12 = construct_SMA(x8, 60).reshape((-1, 1))\n",
        "\t\n",
        "  x13 = construct_SMA(x8, 220).reshape((-1, 1))\n",
        "\t\n",
        "  x14= np.log(np.square(data[:,1].astype(float)).reshape((-1,1)))\n",
        "\t\n",
        "  x15 = np.log(data[:, 1].astype(float).reshape((-1, 1))**3)\n",
        "\t\n",
        "  X = np.hstack((x1,x2,x3,x4,x5,x6,x7,x8,x9,x10,x11,x12,x13,x14,x15)) # This stacks up the entire thing horizontally\n",
        "\t\n",
        "  X = X[2:-1,:] # 2nd row to last elem + all columns\n",
        "\n",
        "  \n",
        "  return(X)\n"
      ],
      "execution_count": 0,
      "outputs": []
    },
    {
      "cell_type": "code",
      "metadata": {
        "id": "DwDC0Xnp_B1t",
        "colab_type": "code",
        "colab": {}
      },
      "source": [
        "# construct y\n",
        "\n",
        "# y0 = None\n",
        "\n",
        "# y1 = sign(r1)\n",
        "\n",
        "def construct_y(data):\n",
        "\n",
        "  r = construct_return(data)\n",
        "\t\n",
        "  y = np.sign(r[3:]) # sign returns the sign of the array element \n",
        "  \n",
        "  # starts with index == 3, bcoz 0th Index = None, 1st is nan and 2nd is starting/first elem\n",
        "  \n",
        "  # sign return -1 if r < 0, 1 if r > 0 and 0 when y == 0\n",
        "  \n",
        "  \n",
        "  zero_index = np.where(y == 0)[0] # conditional numpy array\n",
        "\t\n",
        "  y[zero_index] = 1\n",
        "\t\n",
        "  return y\n",
        "\n",
        "cny_y = construct_y(cny_data)\n",
        "\n",
        "jpy_y = construct_y(jpy_data)\t\n",
        "\n",
        "eur_y = construct_y(eur_data)\n",
        "\n",
        "gbp_y = construct_y(gbp_data)\n"
      ],
      "execution_count": 0,
      "outputs": []
    },
    {
      "cell_type": "code",
      "metadata": {
        "id": "ukxagh0LRZb1",
        "colab_type": "code",
        "outputId": "66b83d37-eacc-475e-ef78-9ff024ad2fa4",
        "colab": {
          "base_uri": "https://localhost:8080/",
          "height": 256
        }
      },
      "source": [
        "# The main method\n",
        "\n",
        "\n",
        "def main():\n",
        "\n",
        "  # load data = ['date', 'last price']\n",
        "\tcny_data = loadExcelData('data.xlsx','USDCNY')\n",
        "\tjpy_data = loadExcelData('data.xlsx','USDJPY')\n",
        "\teur_data = loadExcelData('data.xlsx','USDEUR')\n",
        "\tgbp_data = loadExcelData('data.xlsx','USDGBP')\n",
        "\t\n",
        "\t# Fill data in the empty dates (weekends) with the average\n",
        "\t# of porior and posterior data\n",
        "\t# cny_data = fillEmptyDates(cny_data)\n",
        "\t# jpy_data = fillEmptyDates(jpy_data)\n",
        "\t# eur_data = fillEmptyDates(eur_data)\n",
        "  \t# gbp_data = fillEmptyDates(gbp_data)\n",
        "\n",
        "    \n",
        "\t# construct retrun values (r2,...,rn)\n",
        "\tcny_r = construct_return(cny_data)\n",
        "\tjpy_r = construct_return(jpy_data)\n",
        "\teur_r = construct_return(eur_data)\n",
        "\tgbp_r = construct_return(gbp_data)\n",
        "\n",
        "  \n",
        "\t# construct sma\n",
        "\tcny_sma5 = construct_SMA(cny_r,5)\n",
        "\tjpy_sma5 = construct_SMA(jpy_r,5)\n",
        "\teur_sma5 = construct_SMA(eur_r,5)\n",
        "\tgbp_sma5 = construct_SMA(gbp_r,5)\n",
        "\n",
        "\t\n",
        "  # construct last-day-closing-price structure\n",
        "\tcny_lDay = construct_lastDay(cny_r)\n",
        "\tjpy_lDay = construct_lastDay(jpy_r)\n",
        "\teur_lDay = construct_lastDay(eur_r)\n",
        "\tgbp_lDay = construct_lastDay(gbp_r)\n",
        "\n",
        "  \n",
        "\t# construct y \n",
        "\tcny_y = construct_y(cny_data)\n",
        "\tjpy_y = construct_y(jpy_data)\t\n",
        "\teur_y = construct_y(eur_data)\n",
        "\tgbp_y = construct_y(gbp_data)\n",
        "\n",
        "  \n",
        "\tX = construct_X(cny_data)\n",
        "\tprint (X)\n",
        "\t\n",
        "\t\n",
        "\n",
        "main()"
      ],
      "execution_count": 16,
      "outputs": [
        {
          "output_type": "stream",
          "text": [
            "[[-1.72617874e-02 -1.84960264e-03 -1.84960264e-03 ...  2.09314719e+00\n",
            "   4.18612175e+00  6.27918263e+00]\n",
            " [ 2.46615206e-03 -4.11017742e-04 -4.11017742e-04 ...  2.09312664e+00\n",
            "   4.18617108e+00  6.27925661e+00]\n",
            " [ 3.57523721e-02  8.62982971e-03  8.62982971e-03 ...  2.09320574e+00\n",
            "   4.18688612e+00  6.28032918e+00]\n",
            " ...\n",
            " [ 4.54765069e-01  9.62986223e-02  8.01298229e-02 ...  1.91637505e+00\n",
            "   3.82384970e+00  5.73577455e+00]\n",
            " [ 1.50638025e-01  1.22862330e-01  7.46548475e-02 ...  1.91663354e+00\n",
            "   3.82686246e+00  5.74029369e+00]\n",
            " [ 9.58765773e-02  1.43522525e-01  9.01914338e-02 ...  1.91687019e+00\n",
            "   3.82877999e+00  5.74316999e+00]]\n"
          ],
          "name": "stdout"
        }
      ]
    },
    {
      "cell_type": "code",
      "metadata": {
        "id": "o16jZhAWld7z",
        "colab_type": "code",
        "colab": {}
      },
      "source": [
        ""
      ],
      "execution_count": 0,
      "outputs": []
    },
    {
      "cell_type": "code",
      "metadata": {
        "id": "Pa3RJDxYlCHf",
        "colab_type": "code",
        "colab": {
          "base_uri": "https://localhost:8080/",
          "height": 256
        },
        "outputId": "b2bb5f25-1be0-4344-b0f0-8b1fd964e22e"
      },
      "source": [
        "\n",
        "# construct X_all\n",
        "#[x_cny, x_jpy, x_eur, x_gbp]\n",
        "\n",
        "def construct_X_all():\n",
        "\t\n",
        "\tcny_data = loadExcelData('data.xlsx','USDCNY')\n",
        "\tjpy_data = loadExcelData('data.xlsx','USDJPY')\n",
        "\teur_data = loadExcelData('data.xlsx','USDEUR')\n",
        "\tgbp_data = loadExcelData('data.xlsx','USDGBP')\n",
        "\n",
        "\tcny_data = fillEmptyDates(cny_data)\n",
        "\tjpy_data = fillEmptyDates(jpy_data)\n",
        "\teur_data = fillEmptyDates(eur_data)\n",
        "\tgbp_data = fillEmptyDates(gbp_data)\n",
        "\n",
        "\tX_cny = construct_X(cny_data)[-3500:]\n",
        "\tX_jpy = construct_X(jpy_data)[-3500:]\n",
        "\tX_eur = construct_X(eur_data)[-3500:]\n",
        "\tX_gbp = construct_X(gbp_data)[-3500:]\n",
        "\n",
        "\tX_all = np.hstack((X_cny, X_jpy, X_eur, X_gbp))\n",
        "\n",
        "\treturn X_all\n",
        "\n",
        "\n",
        "def construct_y_all(data):\n",
        "\tr = construct_return(data)\n",
        "\ty = np.sign(r[3:])\n",
        "\tzero_index = np.where(y == 0)[0]\n",
        "\ty[zero_index] = 1\n",
        "\treturn y[-3500:]\n",
        "\n",
        "\n",
        "\t\n",
        "# construct X\n",
        "# [x1 x2 x3 x4 x5 x6 x7]\n",
        "# [r SMA5 SMA10 SMA20 SMA60 SMA120 lDay]  \n",
        "def construct_X(data):\n",
        "\tx1 = construct_return(data).reshape((-1,1))\n",
        "\tx2 = construct_SMA(x1,5).reshape((-1,1))\n",
        "\tx3 = construct_SMA(x1,10).reshape((-1,1))\n",
        "\tx4 = construct_SMA(x1,20).reshape((-1,1))\n",
        "\tx5 = construct_SMA(x1,60).reshape((-1,1))\n",
        "\tx6 = construct_SMA(x1,120).reshape((-1,1))\n",
        "\tx7 = construct_lastDay(x1).reshape((-1,1))\n",
        "\tx8 = np.log(data[:,1].astype(float)).reshape((-1,1))\n",
        "\tx9 = construct_SMA(x8,5).reshape((-1,1))\n",
        "\tx10 = construct_SMA(x8, 10).reshape((-1, 1))\n",
        "\tx11 = construct_SMA(x8, 20).reshape((-1, 1))\n",
        "\tx12 = construct_SMA(x8, 60).reshape((-1, 1))\n",
        "\tx13 = construct_SMA(x8, 220).reshape((-1, 1))\n",
        "\tx14= np.log(np.square(data[:,1].astype(float)).reshape((-1,1)))\n",
        "\tx15 = np.log(data[:, 1].astype(float).reshape((-1, 1))**3)\n",
        "\tX = np.hstack((x1,x2,x3,x4,x5,x6,x7,x8,x9,x10,x11,x12,x13,x14,x15))\n",
        "\tX = X[2:-1,:]\n",
        "\n",
        "\treturn (X)\n",
        "\n",
        "\n",
        "# return last day's closing price\n",
        "def construct_lastDay(r):\n",
        "\tlDay = np.zeros_like(r)\n",
        "\tlDay[0:2] = None\n",
        "\tlDay[2:] = r[1:-1]\n",
        "\treturn lDay\n",
        "\n",
        "\n",
        "# for example: SMA5\n",
        "# in the form of (r2, (r2+r3)/2, (r2+r3+r4)/3, (r2+r3+r4+r5)/4, (r2+r3+r4+r5+r6)/5, \n",
        "# (r3+r4+r5+r6+r7)/5, ...)\n",
        "def construct_SMA(r,degree):\n",
        "\tnum_days = r.shape[0]\n",
        "\tsma = np.zeros_like(r)\n",
        "\tfor i in range(num_days):\n",
        "\t\tif i == 0:\n",
        "\t\t\tsma[i] = None\n",
        "\t\telif i < degree:\n",
        "\t\t\tsma[i] = np.mean(r[1:i+1])\n",
        "\t\telse:\n",
        "\t\t\tsma[i] = np.mean(r[i-degree+1:i+1])\n",
        "\treturn sma\n",
        "\n",
        "\n",
        "\n",
        "# construct rs\n",
        "# r0 = None\n",
        "# start from r1 = 100*log(p1-p0)\n",
        "def construct_return(data):\n",
        "\tp = data[:,1].astype(float)\n",
        "\tr = np.zeros_like(p)\n",
        "\tr[0] = None\n",
        "\tr[1:] = 100.0 * (np.log(p[1:])-np.log(p[:-1]))\n",
        "\treturn r\n",
        "\n",
        "\n",
        "# construct y\n",
        "# y0 = None\n",
        "# y1 = sign(r1)\n",
        "def construct_y(data):\n",
        "\tr = construct_return(data)\n",
        "\ty = np.sign(r[3:])\n",
        "\tzero_index = np.where(y == 0)[0]\n",
        "\ty[zero_index] = 1\n",
        "\treturn y\n",
        "\n",
        "\n",
        "# Reads an Excel file \n",
        "# return: data = ['date', 'last price']\n",
        "def loadExcelData(fileName, sheetName):\n",
        "\tdata = pd.DataFrame(pd.read_excel(fileName, sheetName), columns= ['Date', 'Last Price'])\n",
        "\treturn data.values\n",
        "\n",
        "\n",
        "\n",
        "# Fill data in the empty dates (weekends) with the average\n",
        "# of porior and posterior data\n",
        "def fillEmptyDates(data):\n",
        "\tnum_days = data.shape[0]\n",
        "\tempty_days_index = np.where(data[:,1] == 0)[0]\n",
        "\tempty_days_list = empty_days_index.tolist()\n",
        "\tfilled_days_index = data[:,1].nonzero()[0]\n",
        "\tfilled_days_list = filled_days_index.tolist\n",
        "\tfor i in empty_days_list:\n",
        "\t\tif i == 0:\n",
        "\t\t\tdata[i,3] = data[filled_days_index[0],1]\n",
        "\n",
        "\t\telif i == num_days-1:\n",
        "\t\t\tdata[i,3] = data[filled_days_index[-1],1]\n",
        "\t\telse:\n",
        "\t\t\tleft_index = np.where(filled_days_index <= i)[0][-1]\n",
        "\t\t\tright_index = np.where(filled_days_index >= i)[0][0]\n",
        "\t\t\tdata[i,1] = (data[filled_days_index[left_index],1] + data[filled_days_index[right_index],1])/2.0\n",
        "\treturn data\n",
        "\n",
        "# This if statement passes if this\n",
        "# was the file that was executed\n",
        "if __name__ == '__main__':\n",
        "\tmain()\n"
      ],
      "execution_count": 17,
      "outputs": [
        {
          "output_type": "stream",
          "text": [
            "[[-1.72617874e-02 -1.84960264e-03 -1.84960264e-03 ...  2.09314719e+00\n",
            "   4.18612175e+00  6.27918263e+00]\n",
            " [ 2.46615206e-03 -4.11017742e-04 -4.11017742e-04 ...  2.09312664e+00\n",
            "   4.18617108e+00  6.27925661e+00]\n",
            " [ 3.57523721e-02  8.62982971e-03  8.62982971e-03 ...  2.09320574e+00\n",
            "   4.18688612e+00  6.28032918e+00]\n",
            " ...\n",
            " [ 4.54765069e-01  9.62986223e-02  8.01298229e-02 ...  1.91637505e+00\n",
            "   3.82384970e+00  5.73577455e+00]\n",
            " [ 1.50638025e-01  1.22862330e-01  7.46548475e-02 ...  1.91663354e+00\n",
            "   3.82686246e+00  5.74029369e+00]\n",
            " [ 9.58765773e-02  1.43522525e-01  9.01914338e-02 ...  1.91687019e+00\n",
            "   3.82877999e+00  5.74316999e+00]]\n"
          ],
          "name": "stdout"
        }
      ]
    },
    {
      "cell_type": "code",
      "metadata": {
        "id": "c771ekOQlb7I",
        "colab_type": "code",
        "colab": {}
      },
      "source": [
        "\n",
        "# The main method\n",
        "def main():\n",
        "\t# load data = ['date', 'last price']\n",
        "\tcny_data = loadExcelData('data.xlsx','USDCNY')\n",
        "\tjpy_data = loadExcelData('data.xlsx','USDJPY')\n",
        "\teur_data = loadExcelData('data.xlsx','USDEUR')\n",
        "\tgbp_data = loadExcelData('data.xlsx','USDGBP')\n",
        "\t\n",
        "\t# Fill data in the empty dates (weekends) with the average\n",
        "\t# of porior and posterior data\n",
        "\tcny_data = fillEmptyDates(cny_data)\n",
        "\tjpy_data = fillEmptyDates(jpy_data)\n",
        "\teur_data = fillEmptyDates(eur_data)\n",
        "\tgbp_data = fillEmptyDates(gbp_data)\n",
        "\n",
        "\t# construct retrun values (r2,...,rn)\n",
        "\tcny_r = construct_return(cny_data)\n",
        "\tjpy_r = construct_return(jpy_data)\n",
        "\teur_r = construct_return(eur_data)\n",
        "\tgbp_r = construct_return(gbp_data)\n",
        "\n",
        "\t# construct sma\n",
        "\tcny_sma5 = construct_SMA(cny_r,5)\n",
        "\tjpy_sma5 = construct_SMA(jpy_r,5)\n",
        "\teur_sma5 = construct_SMA(eur_r,5)\n",
        "\tgbp_sma5 = construct_SMA(gbp_r,5)\n",
        "\n",
        "\t# construct last-day-closing-price structure\n",
        "\tcny_lDay = construct_lastDay(cny_r)\n",
        "\tjpy_lDay = construct_lastDay(jpy_r)\n",
        "\teur_lDay = construct_lastDay(eur_r)\n",
        "\tgbp_lDay = construct_lastDay(gbp_r)\n",
        "\n",
        "\t# construct y \n",
        "\tcny_y = construct_y(cny_data)\n",
        "\tjpy_y = construct_y(jpy_data)\t\n",
        "\teur_y = construct_y(eur_data)\n",
        "\tgbp_y = construct_y(gbp_data)\n"
      ],
      "execution_count": 0,
      "outputs": []
    },
    {
      "cell_type": "code",
      "metadata": {
        "id": "sSZCGt3AoLTv",
        "colab_type": "code",
        "colab": {}
      },
      "source": [
        "\n",
        "import numpy as np\n",
        "import matplotlib.pyplot as plt\n",
        "from sklearn import linear_model\n",
        "\n",
        "\n",
        "\n",
        "\n",
        "\n",
        "def split_data(currency):\n",
        "  data = loadExcelFile('data.xlsx', currency)\n",
        "  x = construct_X(data)\n",
        "  r = construct_return(data)[3:]\n",
        "  \n",
        "  \n",
        "  \n",
        "  \n"
      ],
      "execution_count": 0,
      "outputs": []
    },
    {
      "cell_type": "code",
      "metadata": {
        "id": "4pEQ5_o51zFS",
        "colab_type": "code",
        "colab": {}
      },
      "source": [
        "\n",
        "def split_data(currency):\n",
        "\t# Load data for currency\n",
        "\tdata = dp.loadExcelData('data.xlsx', currency)\n",
        "\tX = dp.construct_X(data)\n",
        "\tr = dp.construct_return(data)[3:]\n",
        "\t\n",
        "\t# number of datapoints # resume point1\n",
        "\tn = r.shape[0]\n",
        "\t_n = n//10\n",
        "\t\n",
        "\t# Split the data into training/validate/testing sets\n",
        "\tX_train = X[:8*_n]\n",
        "\tX_val = X[8*_n:9*_n]\n",
        "\tX_test = X[9*_n:]\n",
        "\n",
        "\t# Split the targets into training/validate/testing sets\n",
        "\tr_train = r[:8*_n]\n",
        "\tr_val = r[8*_n:9*_n]\n",
        "\tr_test = r[9*_n:]\n",
        "\t\n",
        "\treturn X_train, X_val, X_test, r_train, r_val, r_test\n",
        "\n",
        "\n",
        "if __name__ == '__main__':\n",
        "\tmain()\n"
      ],
      "execution_count": 0,
      "outputs": []
    },
    {
      "cell_type": "code",
      "metadata": {
        "id": "ZPmQA9Mr2OhV",
        "colab_type": "code",
        "colab": {}
      },
      "source": [
        "# number of datapoints\n",
        "\t#n = r.shape[0]\n",
        "\t_#n = n//10\n",
        "\t"
      ],
      "execution_count": 0,
      "outputs": []
    }
  ]
}